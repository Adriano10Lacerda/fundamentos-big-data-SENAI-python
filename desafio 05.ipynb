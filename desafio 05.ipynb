{
 "cells": [
  {
   "cell_type": "code",
   "execution_count": 2,
   "metadata": {},
   "outputs": [],
   "source": [
    "# Importa as Bibliotecas\n",
    "\n",
    "import pandas as pd               # MANIPULAR E TRATAR DADOS\n",
    "import matplotlib.pyplot as plt   # GERAR GRAFICOS\n",
    "import os                         # GERENCIAR O SISTEMA OPERACIONAL\n",
    "import seaborn as sns             # VISUALIZAR DADOS DE FORMA GRAFICA"
   ]
  },
  {
   "cell_type": "markdown",
   "metadata": {},
   "source": [
    "### CARREGAR OS ARQUIVOS DE VENDAS"
   ]
  },
  {
   "cell_type": "code",
   "execution_count": 3,
   "metadata": {},
   "outputs": [],
   "source": [
    "# PASTA QUE CONTÉM TODOS OS ARQUIVOS\n",
    "caminhoDaPasta = 'C:\\\\Users\\\\FIC\\\\Documents\\\\Adriano Python\\\\desafio-python-Adriano\\\\Desafio 01 - Super Atacadista\\\\arquivos\\\\vendas\\\\'\n",
    "\n",
    "### AGRUPAR TODOS OS DOCUMENTOS EM UM ÚNICO DATAFRAME ###\n",
    "\n",
    "diretorios = []  # Lista Vazia\n",
    "\n",
    "\n",
    "# LOCALIZAR OS ARQUIVOS E COMBINAR O CAMINHO DA PASTA\n",
    "for file in os.listdir (caminhoDaPasta):\n",
    "    fullPath = caminhoDaPasta + file\n",
    "    diretorios.append(fullPath)\n",
    "\n",
    "# CRIAR UM DATAFRAME VAZIO\n",
    "dfVendas = pd.DataFrame()\n",
    "\n",
    "# LOOP PARA ACESSAR OS DUCUMENTOS E COMBINA-LOS(+/- UNION DO SQL)\n",
    "# ELE COMBINA APENAS OS ARQUIVOS COM EXTENSÃO .XLSX\n",
    "\n",
    "for path in diretorios:\n",
    "    if path.endswith('.xlsx'):\n",
    "        df = pd.read_excel(path)\n",
    "        dfVendas = pd.concat([dfVendas,df])\n",
    "\n",
    "# GERAR UM ARQUIVO CSV COM OS DADOS CONSOLIDADOS\n",
    "dfVendas.to_csv(caminhoDaPasta + 'arquivoCombinado.csv')\n",
    "\n"
   ]
  },
  {
   "cell_type": "markdown",
   "metadata": {},
   "source": [
    "### Carregar os demais dataframes"
   ]
  },
  {
   "cell_type": "code",
   "execution_count": 4,
   "metadata": {},
   "outputs": [
    {
     "data": {
      "text/html": [
       "<div>\n",
       "<style scoped>\n",
       "    .dataframe tbody tr th:only-of-type {\n",
       "        vertical-align: middle;\n",
       "    }\n",
       "\n",
       "    .dataframe tbody tr th {\n",
       "        vertical-align: top;\n",
       "    }\n",
       "\n",
       "    .dataframe thead th {\n",
       "        text-align: right;\n",
       "    }\n",
       "</style>\n",
       "<table border=\"1\" class=\"dataframe\">\n",
       "  <thead>\n",
       "    <tr style=\"text-align: right;\">\n",
       "      <th></th>\n",
       "      <th>cdVendedor</th>\n",
       "      <th>data</th>\n",
       "      <th>meta</th>\n",
       "    </tr>\n",
       "  </thead>\n",
       "  <tbody>\n",
       "    <tr>\n",
       "      <th>3</th>\n",
       "      <td>102</td>\n",
       "      <td>2017-01-01 00:00:00</td>\n",
       "      <td>140768.312981</td>\n",
       "    </tr>\n",
       "    <tr>\n",
       "      <th>4</th>\n",
       "      <td>102</td>\n",
       "      <td>2017-02-01 00:00:00</td>\n",
       "      <td>124258.753484</td>\n",
       "    </tr>\n",
       "    <tr>\n",
       "      <th>5</th>\n",
       "      <td>102</td>\n",
       "      <td>2017-03-01 00:00:00</td>\n",
       "      <td>169509.931262</td>\n",
       "    </tr>\n",
       "    <tr>\n",
       "      <th>6</th>\n",
       "      <td>102</td>\n",
       "      <td>2017-04-01 00:00:00</td>\n",
       "      <td>143465.231352</td>\n",
       "    </tr>\n",
       "    <tr>\n",
       "      <th>7</th>\n",
       "      <td>102</td>\n",
       "      <td>2017-05-01 00:00:00</td>\n",
       "      <td>98423.627768</td>\n",
       "    </tr>\n",
       "    <tr>\n",
       "      <th>...</th>\n",
       "      <td>...</td>\n",
       "      <td>...</td>\n",
       "      <td>...</td>\n",
       "    </tr>\n",
       "    <tr>\n",
       "      <th>790</th>\n",
       "      <td>669</td>\n",
       "      <td>2022-08-01 00:00:00</td>\n",
       "      <td>50216</td>\n",
       "    </tr>\n",
       "    <tr>\n",
       "      <th>791</th>\n",
       "      <td>669</td>\n",
       "      <td>2022-09-01 00:00:00</td>\n",
       "      <td>36746</td>\n",
       "    </tr>\n",
       "    <tr>\n",
       "      <th>792</th>\n",
       "      <td>669</td>\n",
       "      <td>2022-10-01 00:00:00</td>\n",
       "      <td>136380</td>\n",
       "    </tr>\n",
       "    <tr>\n",
       "      <th>793</th>\n",
       "      <td>669</td>\n",
       "      <td>2022-11-01 00:00:00</td>\n",
       "      <td>92726</td>\n",
       "    </tr>\n",
       "    <tr>\n",
       "      <th>794</th>\n",
       "      <td>669</td>\n",
       "      <td>2022-12-01 00:00:00</td>\n",
       "      <td>100680</td>\n",
       "    </tr>\n",
       "  </tbody>\n",
       "</table>\n",
       "<p>792 rows × 3 columns</p>\n",
       "</div>"
      ],
      "text/plain": [
       "    cdVendedor                 data           meta\n",
       "3          102  2017-01-01 00:00:00  140768.312981\n",
       "4          102  2017-02-01 00:00:00  124258.753484\n",
       "5          102  2017-03-01 00:00:00  169509.931262\n",
       "6          102  2017-04-01 00:00:00  143465.231352\n",
       "7          102  2017-05-01 00:00:00   98423.627768\n",
       "..         ...                  ...            ...\n",
       "790        669  2022-08-01 00:00:00          50216\n",
       "791        669  2022-09-01 00:00:00          36746\n",
       "792        669  2022-10-01 00:00:00         136380\n",
       "793        669  2022-11-01 00:00:00          92726\n",
       "794        669  2022-12-01 00:00:00         100680\n",
       "\n",
       "[792 rows x 3 columns]"
      ]
     },
     "execution_count": 4,
     "metadata": {},
     "output_type": "execute_result"
    }
   ],
   "source": [
    "dfMetas = pd.read_excel('C:\\\\Users\\\\FIC\\\\Documents\\\\Adriano Python\\\\desafio-python-Adriano\\\\Desafio 01 - Super Atacadista\\\\arquivos\\\\base-meta-new.xlsx')\n",
    "dfVendedores = pd.read_excel('C:\\\\Users\\\\FIC\\\\Documents\\\\Adriano Python\\\\desafio-python-Adriano\\\\Desafio 01 - Super Atacadista\\\\arquivos\\\\Dimensões.xlsx', sheet_name= 'Vendedor')\n",
    "dfProdutos = pd.read_excel('C:\\\\Users\\\\FIC\\\\Documents\\\\Adriano Python\\\\desafio-python-Adriano\\\\Desafio 01 - Super Atacadista\\\\arquivos\\\\Dimensões.xlsx', sheet_name= 'Produto')\n",
    "dfDatas = pd.read_excel('C:\\\\Users\\\\FIC\\\\Documents\\\\Adriano Python\\\\desafio-python-Adriano\\\\Desafio 01 - Super Atacadista\\\\arquivos\\\\Dimensões.xlsx', sheet_name= 'Data')\n",
    "dfGrupoProduto = pd.read_excel('C:\\\\Users\\\\FIC\\\\Documents\\\\Adriano Python\\\\desafio-python-Adriano\\\\Desafio 01 - Super Atacadista\\\\arquivos\\\\Dimensões.xlsx', sheet_name= 'GrupoProduto')\n",
    "dfClientes = pd.read_excel('C:\\\\Users\\\\FIC\\\\Documents\\\\Adriano Python\\\\desafio-python-Adriano\\\\Desafio 01 - Super Atacadista\\\\arquivos\\\\Dimensões.xlsx', sheet_name= 'Cliente')\n",
    "\n",
    "###### Tratamento do Dataframe Metas ######\n",
    "\n",
    "# FATIAMENTO DO DATAFRAME\n",
    "dfMetas = dfMetas.iloc[3:,1:4]\n",
    "\n",
    "# RENOMEAR COLUNAS\n",
    "dfMetas.columns = ['cdVendedor', 'data', 'meta']\n",
    "\n",
    "dfMetas\n"
   ]
  },
  {
   "cell_type": "code",
   "execution_count": 5,
   "metadata": {},
   "outputs": [
    {
     "name": "stdout",
     "output_type": "stream",
     "text": [
      "<class 'pandas.core.frame.DataFrame'>\n",
      "RangeIndex: 792 entries, 3 to 794\n",
      "Data columns (total 3 columns):\n",
      " #   Column      Non-Null Count  Dtype \n",
      "---  ------      --------------  ----- \n",
      " 0   cdVendedor  792 non-null    object\n",
      " 1   data        792 non-null    object\n",
      " 2   meta        792 non-null    object\n",
      "dtypes: object(3)\n",
      "memory usage: 18.7+ KB\n"
     ]
    }
   ],
   "source": [
    "# VERIFICAR OS TIPOS DE DADOS     \n",
    "dfMetas.info()"
   ]
  },
  {
   "cell_type": "code",
   "execution_count": 6,
   "metadata": {},
   "outputs": [
    {
     "data": {
      "text/html": [
       "<div>\n",
       "<style scoped>\n",
       "    .dataframe tbody tr th:only-of-type {\n",
       "        vertical-align: middle;\n",
       "    }\n",
       "\n",
       "    .dataframe tbody tr th {\n",
       "        vertical-align: top;\n",
       "    }\n",
       "\n",
       "    .dataframe thead th {\n",
       "        text-align: right;\n",
       "    }\n",
       "</style>\n",
       "<table border=\"1\" class=\"dataframe\">\n",
       "  <thead>\n",
       "    <tr style=\"text-align: right;\">\n",
       "      <th></th>\n",
       "      <th>cdVendedor</th>\n",
       "      <th>data</th>\n",
       "      <th>meta</th>\n",
       "    </tr>\n",
       "  </thead>\n",
       "  <tbody>\n",
       "    <tr>\n",
       "      <th>count</th>\n",
       "      <td>792</td>\n",
       "      <td>792</td>\n",
       "      <td>792</td>\n",
       "    </tr>\n",
       "    <tr>\n",
       "      <th>unique</th>\n",
       "      <td>11</td>\n",
       "      <td>72</td>\n",
       "      <td>724</td>\n",
       "    </tr>\n",
       "    <tr>\n",
       "      <th>top</th>\n",
       "      <td>102</td>\n",
       "      <td>2017-01-01 00:00:00</td>\n",
       "      <td>0</td>\n",
       "    </tr>\n",
       "    <tr>\n",
       "      <th>freq</th>\n",
       "      <td>72</td>\n",
       "      <td>11</td>\n",
       "      <td>67</td>\n",
       "    </tr>\n",
       "  </tbody>\n",
       "</table>\n",
       "</div>"
      ],
      "text/plain": [
       "        cdVendedor                 data  meta\n",
       "count          792                  792   792\n",
       "unique          11                   72   724\n",
       "top            102  2017-01-01 00:00:00     0\n",
       "freq            72                   11    67"
      ]
     },
     "execution_count": 6,
     "metadata": {},
     "output_type": "execute_result"
    }
   ],
   "source": [
    "# OBTER ALGUMAS ESTASTÍSTICAS BÁSICAS\n",
    "dfMetas.describe()"
   ]
  },
  {
   "cell_type": "markdown",
   "metadata": {},
   "source": [
    "### Análise Exploratória"
   ]
  },
  {
   "cell_type": "code",
   "execution_count": 8,
   "metadata": {},
   "outputs": [
    {
     "data": {
      "text/plain": [
       "<Axes: xlabel='Ano', ylabel='subtotal'>"
      ]
     },
     "execution_count": 8,
     "metadata": {},
     "output_type": "execute_result"
    },
    {
     "data": {
      "image/png": "[encoded data removed]",
      "text/plain": [
       "<Figure size 640x480 with 1 Axes>"
      ]
     },
     "metadata": {},
     "output_type": "display_data"
    }
   ],
   "source": [
    "#   MESCLANDO AS TABELAS VENDAS E DATAS COM O PD.MERGE\n",
    "df_result = pd.merge(\n",
    "                     dfVendas[['DataEmissao', 'QtdItens','ValorUnitario']],\n",
    "                     dfDatas[['Data', 'Ano']],\n",
    "                     left_on='DataEmissao',\n",
    "                     right_on='Data'   \n",
    "                    )\n",
    "\n",
    "# ADICIONAR A COLUNA SUBTOTAL AO DATAFRAME\n",
    "df_result['subtotal'] = df_result['QtdItens'] * df_result['ValorUnitario']\n",
    "\n",
    "# AGRUPAR OS DADOS POR ANO\n",
    "df_result = df_result[['Ano','subtotal']].groupby('Ano').sum().reset_index()\n",
    "\n",
    "# CRIAR O GRAFICO\n",
    "sns.barplot(\n",
    "    data=df_result,\n",
    "    x = 'Ano',\n",
    "    y = 'subtotal'\n",
    ")"
   ]
  },
  {
   "cell_type": "markdown",
   "metadata": {},
   "source": [
    "### CALCULANDO A META POR ANO"
   ]
  },
  {
   "cell_type": "code",
   "execution_count": 16,
   "metadata": {},
   "outputs": [
    {
     "data": {
      "text/html": [
       "<div>\n",
       "<style scoped>\n",
       "    .dataframe tbody tr th:only-of-type {\n",
       "        vertical-align: middle;\n",
       "    }\n",
       "\n",
       "    .dataframe tbody tr th {\n",
       "        vertical-align: top;\n",
       "    }\n",
       "\n",
       "    .dataframe thead th {\n",
       "        text-align: right;\n",
       "    }\n",
       "</style>\n",
       "<table border=\"1\" class=\"dataframe\">\n",
       "  <thead>\n",
       "    <tr style=\"text-align: right;\">\n",
       "      <th></th>\n",
       "      <th>Ano</th>\n",
       "      <th>meta</th>\n",
       "    </tr>\n",
       "  </thead>\n",
       "  <tbody>\n",
       "    <tr>\n",
       "      <th>0</th>\n",
       "      <td>2017</td>\n",
       "      <td>1.174900e+07</td>\n",
       "    </tr>\n",
       "    <tr>\n",
       "      <th>1</th>\n",
       "      <td>2018</td>\n",
       "      <td>1.208240e+07</td>\n",
       "    </tr>\n",
       "    <tr>\n",
       "      <th>2</th>\n",
       "      <td>2019</td>\n",
       "      <td>1.075291e+07</td>\n",
       "    </tr>\n",
       "  </tbody>\n",
       "</table>\n",
       "</div>"
      ],
      "text/plain": [
       "    Ano          meta\n",
       "0  2017  1.174900e+07\n",
       "1  2018  1.208240e+07\n",
       "2  2019  1.075291e+07"
      ]
     },
     "execution_count": 16,
     "metadata": {},
     "output_type": "execute_result"
    }
   ],
   "source": [
    "# CONVERTER O TIPO DE DADO\n",
    "dfMetas['cdVendedor'] = dfMetas['cdVendedor'].astype('int')\n",
    "dfMetas['data'] = dfMetas['data'].astype('datetime64[ns]')\n",
    "dfMetas['meta'] = dfMetas['meta'].astype('float')\n",
    "\n",
    "# COMBINANDO AS TABELAS METAS E DATAS, PARA RETORNAR A COLUNA DATA\n",
    "# PARA A TABELA DE METAS\n",
    "\n",
    "df_result = pd.merge(\n",
    "                    dfMetas[['data', 'meta']],  # TABELA DA ESQUERDA\n",
    "                    dfDatas[['Data', 'Ano']],  # TABELA DA DIREITA\n",
    "                    left_on= 'data', # COLUNA DE BUSCA DA TABELA METAS\n",
    "                    right_on= 'Data' # COLUNA DE BUSCA DA TABELA DATAS\n",
    ")\n",
    "\n",
    "# AGRUPANDO OS DADOS POR ANO UTILIZANDO PD.GROUPY\n",
    "\n",
    "df_result[['Ano', 'meta']].groupby('Ano').sum().reset_index()"
   ]
  },
  {
   "cell_type": "code",
   "execution_count": 17,
   "metadata": {},
   "outputs": [
    {
     "data": {
      "text/plain": [
       "<Axes: xlabel='Ano', ylabel='meta'>"
      ]
     },
     "execution_count": 17,
     "metadata": {},
     "output_type": "execute_result"
    },
    {
     "data": {
      "image/png": "[encoded data removed]",
      "text/plain": [
       "<Figure size 640x480 with 1 Axes>"
      ]
     },
     "metadata": {},
     "output_type": "display_data"
    }
   ],
   "source": [
    "# CRIAR O GRAFICO\n",
    "sns.barplot(\n",
    "    data=df_result,\n",
    "    x = 'Ano',\n",
    "    y = 'meta'\n",
    ")"
   ]
  },
  {
   "cell_type": "code",
   "execution_count": 28,
   "metadata": {},
   "outputs": [
    {
     "data": {
      "image/png": "[encoded data removed]",
      "text/plain": [
       "<Figure size 640x480 with 1 Axes>"
      ]
     },
     "metadata": {},
     "output_type": "display_data"
    }
   ],
   "source": [
    "# FILTRANDO O DATAFRAME DE VENDAS\n",
    "\n",
    "df_result = dfVendas[\n",
    "                    (dfVendas['DataEmissao']>='2018-01-01') &\n",
    "                    (dfVendas['DataEmissao']<='2018-12-31')\n",
    "]\n",
    "\n",
    "# COMBINANDO O DATAFRAME VENDAS COM DATAS\n",
    "\n",
    "df_result = pd.merge(\n",
    "                    df_result[['DataEmissao', 'QtdItens']],\n",
    "                    dfDatas[['Data', 'Mes', 'MesNum']],\n",
    "                    left_on='DataEmissao',\n",
    "                    right_on='Data'\n",
    "                    \n",
    "                    )\n",
    "\n",
    "# AGRUPANDO OS DADOS POR MÊS E SOMANDO A COLUNA QTDEITENS\n",
    "\n",
    "df_result = df_result [['Mes', 'QtdItens', 'MesNum']].groupby(['Mes', 'MesNum']).sum().reset_index().sort_values(by = 'MesNum')\n",
    "\n",
    "# PLOTANDO O GRÁFICO\n",
    "\n",
    "plt.plot(\n",
    "        df_result['Mes'],\n",
    "        df_result['QtdItens'],\n",
    "        label = 'Quantidade vendida',\n",
    "        marker = 'o',\n",
    "        color = 'blue',\n",
    "        lw = 2\n",
    "        )\n",
    "\n",
    "plt.title('Quantidade vendida em 2018')\n",
    "plt.xlabel('Mes')\n",
    "plt.ylabel('Quantidade vendida')\n",
    "plt.xticks(rotation = 45, fontsize = 8)\n",
    "plt.yticks(fontsize = 8)\n",
    "plt.legend(loc = 'lower right')\n",
    "plt.grid()"
   ]
  },
  {
   "cell_type": "markdown",
   "metadata": {},
   "source": [
    "### Quantos clientes ativos e inativos temos em nossa empresa?"
   ]
  }
 ],
 "metadata": {
  "kernelspec": {
   "display_name": "base",
   "language": "python",
   "name": "python3"
  },
  "language_info": {
   "codemirror_mode": {
    "name": "ipython",
    "version": 3
   },
   "file_extension": ".py",
   "mimetype": "text/x-python",
   "name": "python",
   "nbconvert_exporter": "python",
   "pygments_lexer": "ipython3",
   "version": "3.11.0"
  }
 },
 "nbformat": 4,
 "nbformat_minor": 2
}
