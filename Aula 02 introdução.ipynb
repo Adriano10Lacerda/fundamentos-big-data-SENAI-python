{
 "cells": [
  {
   "cell_type": "markdown",
   "metadata": {},
   "source": [
    "### Exercício 02 \n",
    "Crie um programa para receber dois valores e em seguida, exiba o valor \n",
    "da diferença entre eles."
   ]
  },
  {
   "cell_type": "code",
   "execution_count": 2,
   "metadata": {},
   "outputs": [
    {
     "name": "stdout",
     "output_type": "stream",
     "text": [
      "A subtração é: 15\n"
     ]
    }
   ],
   "source": [
    "num1 = 40\n",
    "num2 = 25\n",
    "subtracao = num1 - num2\n",
    "print('A subtração é:', subtracao)"
   ]
  },
  {
   "cell_type": "markdown",
   "metadata": {},
   "source": [
    "### Exercício 11 \n",
    "Faça um Programa que peça o raio de um círculo, calcule e mostre sua \n",
    "área."
   ]
  },
  {
   "cell_type": "code",
   "execution_count": 6,
   "metadata": {},
   "outputs": [
    {
     "name": "stdout",
     "output_type": "stream",
     "text": [
      "Area do circulo é:  314.0\n"
     ]
    }
   ],
   "source": [
    "raio = int(input('Digite o valor do raio:'))\n",
    "area = 3.14 * raio **2\n",
    "print('Area do circulo é: ',area)"
   ]
  },
  {
   "cell_type": "markdown",
   "metadata": {},
   "source": [
    "### Exercício 12 \n",
    "Faça um Programa que calcule a área de um quadrado, em seguida \n",
    "mostre o dobro desta área para o usuário."
   ]
  },
  {
   "cell_type": "code",
   "execution_count": 8,
   "metadata": {},
   "outputs": [],
   "source": [
    "base = float(input('Digite a base do quadrado:'))\n",
    "altura = float(input('Digite a altura do quadrado:'))\n",
    "area = base * altura\n",
    "print('Area do quadrado é:', area)"
   ]
  },
  {
   "cell_type": "markdown",
   "metadata": {},
   "source": [
    "### Exercício 13\n",
    "Faça um Programa que pergunte quanto você ganha por hora e o número \n",
    "de horas trabalhadas no mês. Calcule e mostre o total do seu salário no referido mês.\n"
   ]
  },
  {
   "cell_type": "code",
   "execution_count": 2,
   "metadata": {},
   "outputs": [
    {
     "name": "stdout",
     "output_type": "stream",
     "text": [
      "O seu salário final é de R$540.0\n"
     ]
    }
   ],
   "source": [
    "horasTrabalhadas = int(input('Quantas horas você trabalhou neste mês?'))\n",
    "valorHora = float(input('Quanto você recebe por hora'))\n",
    "salario = horasTrabalhadas * valorHora\n",
    "\n",
    "print(f'O seu salário final é de R${salario}')\n"
   ]
  },
  {
   "cell_type": "markdown",
   "metadata": {},
   "source": [
    "### Exercício 14\n",
    "Faça um Programa que peça a temperatura em graus Fahrenheit, \n",
    "transforme e mostre a temperatura em graus Celsius."
   ]
  },
  {
   "cell_type": "code",
   "execution_count": 4,
   "metadata": {},
   "outputs": [
    {
     "name": "stdout",
     "output_type": "stream",
     "text": [
      "A temperatura em graus Celsius é: 7.22°C\n"
     ]
    }
   ],
   "source": [
    "# Solicita a temperatura em graus Fahrenheit ao usuário\n",
    "fahrenheit = float(input(\"Digite a temperatura em graus Fahrenheit: \"))\n",
    "\n",
    "# Converte a temperatura de Fahrenheit para Celsius\n",
    "celsius = (fahrenheit - 32) * 5/9\n",
    "\n",
    "# Exibe o resultado\n",
    "print(f\"A temperatura em graus Celsius é: {celsius:.2f}°C\")"
   ]
  },
  {
   "cell_type": "markdown",
   "metadata": {},
   "source": [
    "### Exercício 15\n",
    "Faça um Programa que peça a temperatura em graus Celsius, transforme \n",
    "e mostre em graus Fahrenheit."
   ]
  },
  {
   "cell_type": "code",
   "execution_count": 5,
   "metadata": {},
   "outputs": [
    {
     "name": "stdout",
     "output_type": "stream",
     "text": [
      "A temperatura em graus Fahrenheit é: 59.00°F\n"
     ]
    }
   ],
   "source": [
    "# Solicita a temperatura em graus Celsius ao usuário\n",
    "celsius = float(input(\"Digite a temperatura em graus Celsius: \"))\n",
    "\n",
    "# Converte a temperatura de Celsius para Fahrenheit\n",
    "fahrenheit = (celsius * 9/5) + 32\n",
    "\n",
    "# Exibe o resultado\n",
    "print(f\"A temperatura em graus Fahrenheit é: {fahrenheit:.2f}°F\")"
   ]
  },
  {
   "cell_type": "markdown",
   "metadata": {},
   "source": [
    "### Exercício 16\n",
    "Faça um Programa que peça 2 números inteiros e um número real. \n",
    "\n",
    "Calcule e mostre:\n",
    "\n",
    "a) o produto do dobro do primeiro com metade do segundo.\n",
    "\n",
    "b) a soma do triplo do primeiro com o terceiro.\n",
    "\n",
    "c) o terceiro elevado ao cubo."
   ]
  },
  {
   "cell_type": "code",
   "execution_count": 6,
   "metadata": {},
   "outputs": [
    {
     "name": "stdout",
     "output_type": "stream",
     "text": [
      "a) O produto do dobro do primeiro com metade do segundo é: 40.00\n",
      "b) A soma do triplo do primeiro com o terceiro é: 18.00\n",
      "c) O terceiro elevado ao cubo é: 27.00\n"
     ]
    }
   ],
   "source": [
    "# Solicita dois números inteiros ao usuário\n",
    "num1 = int(input(\"Digite o primeiro número inteiro: \"))\n",
    "num2 = int(input(\"Digite o segundo número inteiro: \"))\n",
    "\n",
    "# Solicita um número real ao usuário\n",
    "num3 = float(input(\"Digite um número real: \"))\n",
    "\n",
    "# Realiza os cálculos especificados\n",
    "resultado_a = (2 * num1) * (num2 / 2)\n",
    "resultado_b = (3 * num1) + num3\n",
    "resultado_c = num3 ** 3\n",
    "\n",
    "# Exibe os resultados\n",
    "print(f\"a) O produto do dobro do primeiro com metade do segundo é: {resultado_a:.2f}\")\n",
    "print(f\"b) A soma do triplo do primeiro com o terceiro é: {resultado_b:.2f}\")\n",
    "print(f\"c) O terceiro elevado ao cubo é: {resultado_c:.2f}\")"
   ]
  },
  {
   "cell_type": "markdown",
   "metadata": {},
   "source": []
  }
 ],
 "metadata": {
  "kernelspec": {
   "display_name": "Python 3",
   "language": "python",
   "name": "python3"
  },
  "language_info": {
   "codemirror_mode": {
    "name": "ipython",
    "version": 3
   },
   "file_extension": ".py",
   "mimetype": "text/x-python",
   "name": "python",
   "nbconvert_exporter": "python",
   "pygments_lexer": "ipython3",
   "version": "3.11.0"
  },
  "orig_nbformat": 4
 },
 "nbformat": 4,
 "nbformat_minor": 2
}
