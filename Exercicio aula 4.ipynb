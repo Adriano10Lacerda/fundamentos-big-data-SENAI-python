{
 "cells": [
  {
   "cell_type": "markdown",
   "metadata": {},
   "source": [
    "### Exercício 01 - Crie uma lista com nomes de 4 times de futebol.\n",
    "\n",
    "a) Palmeiras\n",
    "\n",
    "b) São Paulo\n",
    "\n",
    "c) Santos\n",
    "\n",
    "d) Água Santa\n",
    "\n",
    "e) Acesse o time que está na 3a posição.\n",
    "\n",
    "f) Crie uma lista com duas listas de 3 times de futebol, cada uma de uma\n",
    "divisão diferente."
   ]
  },
  {
   "cell_type": "code",
   "execution_count": 3,
   "metadata": {},
   "outputs": [],
   "source": [
    "# Criando lista\n",
    "\n",
    "times = ['Palmeiras', 'São Paulo', 'Santos', 'Agua Santa']"
   ]
  },
  {
   "cell_type": "code",
   "execution_count": 5,
   "metadata": {},
   "outputs": [
    {
     "name": "stdout",
     "output_type": "stream",
     "text": [
      "Time na posição 3 é: Santos\n"
     ]
    }
   ],
   "source": [
    "# Acessar o time que está na 3º posição\n",
    "\n",
    "print('Time na posição 3 é:', times[2])"
   ]
  },
  {
   "cell_type": "code",
   "execution_count": 3,
   "metadata": {},
   "outputs": [
    {
     "data": {
      "text/plain": [
       "'Sport'"
      ]
     },
     "execution_count": 3,
     "metadata": {},
     "output_type": "execute_result"
    }
   ],
   "source": [
    "# Criano subListas\n",
    "\n",
    "times_2 = [\n",
    "          ['Coritiba', 'Sport', 'Palmeiras'], \n",
    "          ['São Caetano', 'Taperinha','Ganso Loko']\n",
    "          ]\n",
    "\n",
    "times_2[0][1]"
   ]
  },
  {
   "cell_type": "markdown",
   "metadata": {},
   "source": [
    "### Exercício 02 - \n",
    "Crie uma lista com 3 diferentes moedas. Acrescente mais 2\n",
    "outras moedas à essa mesma lista."
   ]
  },
  {
   "cell_type": "code",
   "execution_count": 6,
   "metadata": {},
   "outputs": [
    {
     "name": "stdout",
     "output_type": "stream",
     "text": [
      "['Dolar', 'Real', 'Peso']\n"
     ]
    }
   ],
   "source": [
    "# Lista 3 diferente moedas\n",
    "moedas = ['Dolar', 'Real', 'Peso']\n",
    "\n",
    "print(moedas)\n"
   ]
  },
  {
   "cell_type": "code",
   "execution_count": 7,
   "metadata": {},
   "outputs": [
    {
     "name": "stdout",
     "output_type": "stream",
     "text": [
      "['Dolar', 'Real', 'Peso', 'Euro', 'Franco']\n"
     ]
    }
   ],
   "source": [
    "# Acrescentar mais 2 moedas\n",
    "\n",
    "moedas.append('Euro')\n",
    "moedas.append('Franco')\n",
    "\n",
    "print(moedas)"
   ]
  },
  {
   "cell_type": "markdown",
   "metadata": {},
   "source": [
    "### Exercício 03 - \n",
    "\n",
    "Crie uma string com a lista do exercício anterior"
   ]
  },
  {
   "cell_type": "code",
   "execution_count": 10,
   "metadata": {},
   "outputs": [
    {
     "name": "stdout",
     "output_type": "stream",
     "text": [
      "Dolar;Real;Peso\n",
      "<class 'list'>\n",
      "<class 'str'>\n"
     ]
    }
   ],
   "source": [
    "moedas = ['Dolar', 'Real', 'Peso']\n",
    "moedaString = ';'.join(moedas)\n",
    "\n",
    "print(moedaString)\n",
    "print(type(moedas))\n",
    "print(type(moedaString))"
   ]
  },
  {
   "cell_type": "markdown",
   "metadata": {},
   "source": [
    "### Exercício 04 - \n",
    "\n",
    "Agora utilize a string do exercício 6 para recriar uma lista."
   ]
  },
  {
   "cell_type": "code",
   "execution_count": 12,
   "metadata": {},
   "outputs": [
    {
     "name": "stdout",
     "output_type": "stream",
     "text": [
      "['Dolar;Real;Peso']\n",
      "<class 'str'>\n"
     ]
    }
   ],
   "source": [
    "listaMoedas = moedaString.split(',')\n",
    "\n",
    "print(listaMoedas)\n",
    "print(type(moedaString))"
   ]
  }
 ],
 "metadata": {
  "kernelspec": {
   "display_name": "Python 3",
   "language": "python",
   "name": "python3"
  },
  "language_info": {
   "codemirror_mode": {
    "name": "ipython",
    "version": 3
   },
   "file_extension": ".py",
   "mimetype": "text/x-python",
   "name": "python",
   "nbconvert_exporter": "python",
   "pygments_lexer": "ipython3",
   "version": "3.11.0"
  }
 },
 "nbformat": 4,
 "nbformat_minor": 2
}
