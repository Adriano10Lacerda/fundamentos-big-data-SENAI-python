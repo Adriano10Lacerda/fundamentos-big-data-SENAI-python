{
 "cells": [
  {
   "cell_type": "markdown",
   "metadata": {},
   "source": [
    "### Lista (list)\n",
    "\n",
    "Tipo de dado muito importante e que é muito utilizado no dia a dia do\n",
    "desenvolvedor Python!\n",
    "\n",
    "Listas agrupam um conjunto de elementos variados, podendo conter: inteiros, floats,\n",
    "strings, outras listas e outros tipos.\n",
    "\n",
    "Elas são definidas utilizando-se colchetes para delimitar a lista e vírgulas para\n",
    "separar os elementos, veja alguns exemplo abaixo:"
   ]
  },
  {
   "cell_type": "code",
   "execution_count": 1,
   "metadata": {},
   "outputs": [
    {
     "name": "stdout",
     "output_type": "stream",
     "text": [
      "<class 'list'>\n",
      "<class 'list'>\n"
     ]
    }
   ],
   "source": [
    "# Exemplo 01\n",
    "alunos = ['Amanda','Ana','Bruno','João']\n",
    "notas = [10, 8.5, 7.8, 8.0]\n",
    "\n",
    "print(type(alunos))\n",
    "print(type(notas))"
   ]
  },
  {
   "cell_type": "markdown",
   "metadata": {},
   "source": []
  },
  {
   "cell_type": "markdown",
   "metadata": {},
   "source": [
    "### Listas (list) - Acessando intens na lista "
   ]
  },
  {
   "cell_type": "code",
   "execution_count": 4,
   "metadata": {},
   "outputs": [
    {
     "name": "stdout",
     "output_type": "stream",
     "text": [
      "A primeira posição da lista é 0: Amanda\n",
      "A primeira posição da lista é 2: Bruno\n",
      "A primeira posição da lista é 3: João\n",
      "Para retornar uma fatia, você deve usar a seguinte sintaxe\n",
      "nomeLista[ posiçãoInicial:posiçãoFinal ] ['Ana', 'Bruno', 'João']\n"
     ]
    }
   ],
   "source": [
    "# os elementos de uma lista, podem ser acessados atraves dos indices\n",
    "\n",
    "# Retornar a aluna Amanda\n",
    "\n",
    "print('A primeira posição da lista é 0:', alunos[0])\n",
    "\n",
    "# Retornar o aluno Bruno\n",
    "\n",
    "print('A primeira posição da lista é 2:', alunos[2])\n",
    "\n",
    "# Retonar o aluno João\n",
    "\n",
    "print('A primeira posição da lista é 3:', alunos[3])\n",
    "\n",
    "# Retornar uma fatia de dados\n",
    "\n",
    "print('Para retornar uma fatia, você deve usar a seguinte sintaxe''\\n' + 'nomeLista[ posiçãoInicial:posiçãoFinal ]', alunos[1:4])\n",
    "\n"
   ]
  },
  {
   "cell_type": "markdown",
   "metadata": {},
   "source": [
    "### Lista (List) - Adicionar novos elementos"
   ]
  },
  {
   "cell_type": "code",
   "execution_count": 5,
   "metadata": {},
   "outputs": [
    {
     "name": "stdout",
     "output_type": "stream",
     "text": [
      "['Amanda', 'Ana', 'Bruno', 'João', 'Eunice', 'Rodrigo']\n"
     ]
    }
   ],
   "source": [
    "# Adicionar 2 nomes na lista alunos\n",
    "\n",
    "alunos.append('Eunice')\n",
    "alunos.append('Rodrigo')\n",
    "\n",
    "print(alunos)"
   ]
  },
  {
   "cell_type": "code",
   "execution_count": 6,
   "metadata": {},
   "outputs": [
    {
     "name": "stdout",
     "output_type": "stream",
     "text": [
      "[10, 8.5, 7.8, 8.0, 7.9, 9.1]\n"
     ]
    }
   ],
   "source": [
    "# Adicionar 2 valores na lista notas\n",
    "\n",
    "notas.append(7.9)\n",
    "notas.append(9.1)\n",
    "\n",
    "print(notas)"
   ]
  },
  {
   "cell_type": "markdown",
   "metadata": {},
   "source": [
    "### Listas (List) - Removendo elementos de uma lista\n"
   ]
  },
  {
   "cell_type": "code",
   "execution_count": 7,
   "metadata": {},
   "outputs": [],
   "source": [
    "# Removendo um item de acordo com um valor\n",
    "\n",
    "alunos.remove('Eunice')\n",
    "\n"
   ]
  },
  {
   "cell_type": "code",
   "execution_count": 8,
   "metadata": {},
   "outputs": [
    {
     "name": "stdout",
     "output_type": "stream",
     "text": [
      "['Amanda', 'Ana', 'Bruno', 'João', 'Rodrigo']\n"
     ]
    }
   ],
   "source": [
    "print(alunos)"
   ]
  },
  {
   "cell_type": "markdown",
   "metadata": {},
   "source": [
    "### Lista (list) – Conversão para string\n",
    "\n",
    "Já para criar uma string com todos os elementos de uma lista, podemos utilizar o\n",
    "comando join():"
   ]
  },
  {
   "cell_type": "code",
   "execution_count": 9,
   "metadata": {},
   "outputs": [
    {
     "name": "stdout",
     "output_type": "stream",
     "text": [
      "Amanda,Ana,Bruno,João,Rodrigo\n"
     ]
    }
   ],
   "source": [
    "listaString = ','.join(alunos)\n",
    "\n",
    "print(listaString)"
   ]
  },
  {
   "cell_type": "code",
   "execution_count": 11,
   "metadata": {},
   "outputs": [
    {
     "name": "stdout",
     "output_type": "stream",
     "text": [
      "<class 'str'>\n",
      "<class 'list'>\n"
     ]
    }
   ],
   "source": [
    "print(type(listaString))\n",
    "print(type(alunos))"
   ]
  },
  {
   "cell_type": "markdown",
   "metadata": {},
   "source": [
    "### Lista (list) – string para lista\n",
    "Ainda com strings, podemos criar uma lista a partir de uma string com o comando\n",
    "split():"
   ]
  },
  {
   "cell_type": "code",
   "execution_count": 12,
   "metadata": {},
   "outputs": [
    {
     "name": "stdout",
     "output_type": "stream",
     "text": [
      "batata;cebola;tomate;laranja\n",
      "['batata', 'cebola', 'tomate', 'laranja']\n"
     ]
    }
   ],
   "source": [
    "feira = 'batata;cebola;tomate;laranja'\n",
    "\n",
    "listaFeira = feira.split(';')\n",
    "\n",
    "print(feira)\n",
    "print(listaFeira)"
   ]
  },
  {
   "cell_type": "markdown",
   "metadata": {},
   "source": [
    "### Tuplas (tuple)\n",
    "\n",
    "Assim como Lista, Tupla é um tipo que agrupa um conjunto de elementos.\n",
    "\n",
    "Porém sua forma de definição é diferente: utilizamos parênteses e também\n",
    "separado por vírgula.\n",
    "\n",
    "A diferença para Lista é que Tuplas são imutáveis, ou seja, após sua definição, Tuplas\n",
    "não podem ser modificadas."
   ]
  },
  {
   "cell_type": "code",
   "execution_count": 13,
   "metadata": {},
   "outputs": [
    {
     "name": "stdout",
     "output_type": "stream",
     "text": [
      "<class 'tuple'>\n",
      "<class 'tuple'>\n"
     ]
    }
   ],
   "source": [
    "# Criando Tuplas\n",
    "\n",
    "valores = (90, 79, 54, 32, 21)\n",
    "pontos = (100, 94.05, 86.08, 62)\n",
    "\n",
    "# Verificando o tipo de dado\n",
    "\n",
    "print(type(valores))\n",
    "print(type(pontos))"
   ]
  },
  {
   "cell_type": "code",
   "execution_count": 14,
   "metadata": {},
   "outputs": [
    {
     "ename": "TypeError",
     "evalue": "'tuple' object does not support item assignment",
     "output_type": "error",
     "traceback": [
      "\u001b[1;31m---------------------------------------------------------------------------\u001b[0m",
      "\u001b[1;31mTypeError\u001b[0m                                 Traceback (most recent call last)",
      "\u001b[1;32mc:\\Users\\FIC\\Documents\\Adriano Python\\Aula 4 - Explicação sobre listas, tuplas e dicionarios.ipynb Cell 18\u001b[0m line \u001b[0;36m3\n\u001b[0;32m      <a href='vscode-notebook-cell:/c%3A/Users/FIC/Documents/Adriano%20Python/Aula%204%20-%20Explica%C3%A7%C3%A3o%20sobre%20listas%2C%20tuplas%20e%20dicionarios.ipynb#X25sZmlsZQ%3D%3D?line=0'>1</a>\u001b[0m \u001b[39m# Acessar elementos na tupla\u001b[39;00m\n\u001b[1;32m----> <a href='vscode-notebook-cell:/c%3A/Users/FIC/Documents/Adriano%20Python/Aula%204%20-%20Explica%C3%A7%C3%A3o%20sobre%20listas%2C%20tuplas%20e%20dicionarios.ipynb#X25sZmlsZQ%3D%3D?line=2'>3</a>\u001b[0m valores[\u001b[39m1\u001b[39;49m] \u001b[39m=\u001b[39m \u001b[39m10\u001b[39m\n",
      "\u001b[1;31mTypeError\u001b[0m: 'tuple' object does not support item assignment"
     ]
    }
   ],
   "source": [
    "# Acessar elementos na tupla\n",
    "\n",
    "valores[1] = 10\n"
   ]
  },
  {
   "cell_type": "code",
   "execution_count": 17,
   "metadata": {},
   "outputs": [
    {
     "name": "stdout",
     "output_type": "stream",
     "text": [
      "Não e possivel modificar uma tupla!\n"
     ]
    }
   ],
   "source": [
    "# Tratamento de erros\n",
    "\n",
    "try:\n",
    "    valores[1] = 10\n",
    "except TypeError:\n",
    "    print('Não e possivel modificar uma tupla!')"
   ]
  },
  {
   "cell_type": "markdown",
   "metadata": {},
   "source": [
    "### Tuplas (tuple) – Outros exemplos"
   ]
  },
  {
   "cell_type": "code",
   "execution_count": 19,
   "metadata": {},
   "outputs": [],
   "source": [
    "# Criando uma função\n",
    "\n",
    "def sum_and_product(x, y):\n",
    "\n",
    "    return (x + y), (x * y)\n"
   ]
  },
  {
   "cell_type": "code",
   "execution_count": 20,
   "metadata": {},
   "outputs": [
    {
     "name": "stdout",
     "output_type": "stream",
     "text": [
      "(5, 6)\n"
     ]
    }
   ],
   "source": [
    "# Testando a função\n",
    "\n",
    "resultado = sum_and_product(2, 3)\n",
    "\n",
    "print(resultado)"
   ]
  },
  {
   "cell_type": "code",
   "execution_count": 21,
   "metadata": {},
   "outputs": [
    {
     "name": "stdout",
     "output_type": "stream",
     "text": [
      "15\n",
      "50\n"
     ]
    }
   ],
   "source": [
    "# Outro exemplo\n",
    "\n",
    "a, b = sum_and_product(5, 10)\n",
    "\n",
    "print(a)\n",
    "print(b)"
   ]
  },
  {
   "cell_type": "markdown",
   "metadata": {},
   "source": [
    "### Dicionários (dict)\n",
    "\n",
    "Dict é um tipo de dado muito flexível do Python.\n",
    "\n",
    "Eles são utilizados para agrupar elementos através da estrutura de chave e valor,\n",
    "onde a chave é o primeiro elemento seguido por dois pontos e pelo valor.\n",
    "\n",
    "Vamos ver alguns exemplos:"
   ]
  },
  {
   "cell_type": "code",
   "execution_count": 22,
   "metadata": {},
   "outputs": [
    {
     "name": "stdout",
     "output_type": "stream",
     "text": [
      "<class 'dict'>\n",
      "<class 'dict'>\n"
     ]
    }
   ],
   "source": [
    "# Criando o dicionario ALTURA\n",
    "\n",
    "altura = {'Amanda': 1.65, 'Ana': 1.60, 'João': 1.70}\n",
    "\n",
    "# Criar o dicionario de PESO\n",
    "\n",
    "peso = {'Amanda': 60, 'Ana': 58, 'João': 68}\n",
    "\n",
    "# Vereficando os tipos de dados\n",
    "\n",
    "print(type(altura))\n",
    "print(type(peso))"
   ]
  },
  {
   "cell_type": "code",
   "execution_count": 23,
   "metadata": {},
   "outputs": [
    {
     "name": "stdout",
     "output_type": "stream",
     "text": [
      "{'Amanda': 1.65, 'Ana': 1.6, 'João': 1.7, 'Eduardo': 1.9}\n",
      "{'Amanda': 60, 'Ana': 58, 'João': 68, 'Eduardo': 86}\n"
     ]
    }
   ],
   "source": [
    "# Adicionar um elemento ao dicionario\n",
    "\n",
    "altura['Eduardo'] = 1.90\n",
    "peso['Eduardo'] = 86\n",
    "\n",
    "print(altura)\n",
    "print(peso)\n"
   ]
  },
  {
   "cell_type": "code",
   "execution_count": 24,
   "metadata": {},
   "outputs": [
    {
     "data": {
      "text/plain": [
       "dict_values([1.65, 1.6, 1.7, 1.9])"
      ]
     },
     "execution_count": 24,
     "metadata": {},
     "output_type": "execute_result"
    }
   ],
   "source": [
    "altura.values()"
   ]
  }
 ],
 "metadata": {
  "kernelspec": {
   "display_name": "Python 3",
   "language": "python",
   "name": "python3"
  },
  "language_info": {
   "codemirror_mode": {
    "name": "ipython",
    "version": 3
   },
   "file_extension": ".py",
   "mimetype": "text/x-python",
   "name": "python",
   "nbconvert_exporter": "python",
   "pygments_lexer": "ipython3",
   "version": "3.11.0"
  }
 },
 "nbformat": 4,
 "nbformat_minor": 2
}
