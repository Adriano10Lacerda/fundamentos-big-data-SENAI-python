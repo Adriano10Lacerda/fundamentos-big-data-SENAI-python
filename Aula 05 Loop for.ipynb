{
 "cells": [
  {
   "cell_type": "markdown",
   "metadata": {},
   "source": [
    "### Loop FOR\n",
    "A estrutura de repetição for pode atuar sobre itens de qualquer tipo de sequência\n",
    "(lista ou string) na ordem em que aparecem."
   ]
  },
  {
   "cell_type": "markdown",
   "metadata": {},
   "source": [
    "### Exemplo 01 - FOR Simples"
   ]
  },
  {
   "cell_type": "code",
   "execution_count": 2,
   "metadata": {},
   "outputs": [
    {
     "name": "stdout",
     "output_type": "stream",
     "text": [
      "Abacate Repetição de n°: 1\n",
      "Pêra Repetição de n°: 2\n",
      "Abacaxi Repetição de n°: 3\n"
     ]
    }
   ],
   "source": [
    "frutas = ['Abacate','Pêra', 'Abacaxi']\n",
    "qtda = 0\n",
    "for fruta in frutas:\n",
    "    qtda = qtda + 1\n",
    "    print(fruta, 'Repetição de n°:', qtda)"
   ]
  },
  {
   "cell_type": "markdown",
   "metadata": {},
   "source": [
    "### Exemplo 02 - For Condicional"
   ]
  },
  {
   "cell_type": "code",
   "execution_count": 3,
   "metadata": {},
   "outputs": [
    {
     "name": "stdout",
     "output_type": "stream",
     "text": [
      "Abacate\n",
      "Abacaxi\n"
     ]
    }
   ],
   "source": [
    "frutas = ['Abacate', 'Pêra', 'Abacaxi']\n",
    "\n",
    "for fruta in frutas:\n",
    "    if fruta.startswith('A'):\n",
    "        print(fruta)"
   ]
  },
  {
   "cell_type": "markdown",
   "metadata": {},
   "source": [
    "### Exemplo 03 - FOR com ACUMULADOR"
   ]
  },
  {
   "cell_type": "code",
   "execution_count": 4,
   "metadata": {},
   "outputs": [
    {
     "name": "stdout",
     "output_type": "stream",
     "text": [
      "1\n",
      "3\n",
      "6\n",
      "10\n",
      "15\n",
      "21\n",
      "28\n",
      "36\n",
      "45\n",
      "55\n"
     ]
    }
   ],
   "source": [
    "listaNumeros = [1, 2, 3, 4, 5, 6, 7, 8, 9, 10]\n",
    "soma = 0 # Variavel acumuladora\n",
    "\n",
    "for num in listaNumeros:\n",
    "    soma = soma + num\n",
    "    \n",
    "    print(soma)"
   ]
  },
  {
   "cell_type": "markdown",
   "metadata": {},
   "source": [
    "### Loop While\n",
    "A estrutura de repetição while é utilizada quando precisamos repetir uma ação\n",
    "algumas vezes ou fazer uma iteração até que uma condição seja satisfeita.\n",
    "\n",
    "### Exemplo 01"
   ]
  },
  {
   "cell_type": "code",
   "execution_count": 5,
   "metadata": {},
   "outputs": [
    {
     "name": "stdout",
     "output_type": "stream",
     "text": [
      "1\n",
      "3\n",
      "6\n",
      "10\n",
      "15\n"
     ]
    }
   ],
   "source": [
    "condicao = 1\n",
    "soma = 0\n",
    "\n",
    "# Este bloco será repetido enquanto o valor\n",
    "# da variável condição for menor ou igual do que 5\n",
    "\n",
    "while condicao <= 5:\n",
    "    soma += condicao\n",
    "    condicao += 1\n",
    "    print(soma)"
   ]
  },
  {
   "cell_type": "markdown",
   "metadata": {},
   "source": [
    "### Exercício 01 – \n",
    "\n",
    "Faça um programa que peça uma nota, entre zero e dez. \n",
    "\n",
    "Mostre uma mensagem caso o valor seja inválido e continue pedindo até que o usuário informe um\n",
    "valor válido."
   ]
  },
  {
   "cell_type": "code",
   "execution_count": 6,
   "metadata": {},
   "outputs": [
    {
     "name": "stdout",
     "output_type": "stream",
     "text": [
      "Valeu!!\n"
     ]
    }
   ],
   "source": [
    "num = int(input('Digite uma nota entre 0 e 10'))\n",
    "\n",
    "while num >10:\n",
    "    num = int(input('Valor Invalido!! Digite uma nota entre 0 e 10'))\n",
    "\n",
    "print('Valeu!!')"
   ]
  },
  {
   "cell_type": "markdown",
   "metadata": {},
   "source": [
    "### Exercício 02 - \n",
    "\n",
    "Faça um programa que leia um nome de usuário e a sua senha e não\n",
    "aceite a senha igual ao nome do usuário, mostrando uma mensagem de erro e voltando\n",
    "a pedir as informações."
   ]
  },
  {
   "cell_type": "code",
   "execution_count": 9,
   "metadata": {},
   "outputs": [
    {
     "name": "stdout",
     "output_type": "stream",
     "text": [
      "Seu usurio é: f\n",
      "Sua senha é: w\n"
     ]
    }
   ],
   "source": [
    "usuario = input('Digite um usuario: ')\n",
    "senha = input('Digite uma senha: ')\n",
    "\n",
    "while usuario == senha:\n",
    "    senha = input('Digite sua senha, novamente!!')\n",
    "\n",
    "print(f'Seu usurio é: {usuario}')\n",
    "print(f'Sua senha é: {senha}')    "
   ]
  }
 ],
 "metadata": {
  "kernelspec": {
   "display_name": "Python 3",
   "language": "python",
   "name": "python3"
  },
  "language_info": {
   "codemirror_mode": {
    "name": "ipython",
    "version": 3
   },
   "file_extension": ".py",
   "mimetype": "text/x-python",
   "name": "python",
   "nbconvert_exporter": "python",
   "pygments_lexer": "ipython3",
   "version": "3.11.0"
  }
 },
 "nbformat": 4,
 "nbformat_minor": 2
}
