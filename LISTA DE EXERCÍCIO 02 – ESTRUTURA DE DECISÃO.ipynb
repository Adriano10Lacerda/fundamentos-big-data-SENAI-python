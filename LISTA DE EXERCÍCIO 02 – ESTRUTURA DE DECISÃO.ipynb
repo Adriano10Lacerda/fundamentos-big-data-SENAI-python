{
 "cells": [
  {
   "cell_type": "markdown",
   "metadata": {},
   "source": [
    "### Exercício 01\n",
    "Crie uma variável chamada \"idade\" e atribua um valor inteiro a ela. \n",
    "\n",
    "Verifique se a idade é maior ou igual a 18 e imprima \"Maior de idade\" ou \"Menor de \n",
    "idade\" de acordo com a condição."
   ]
  },
  {
   "cell_type": "code",
   "execution_count": 2,
   "metadata": {},
   "outputs": [
    {
     "name": "stdout",
     "output_type": "stream",
     "text": [
      "Menor de idade:\n"
     ]
    }
   ],
   "source": [
    "idade = int(input('Informe a sua idade:'))\n",
    "\n",
    "# Verificação da idade\n",
    "\n",
    "if idade >= 18:\n",
    "    print('Maior de idade:')\n",
    "else:\n",
    "    print('Menor de idade:')"
   ]
  },
  {
   "cell_type": "markdown",
   "metadata": {},
   "source": [
    "### Exercício 02\n",
    "\n",
    "Crie uma variável chamada \"número\" e atribua um valor inteiro a ela. \n",
    "Verifique se o número é positivo, negativo ou zero e imprima a mensagem \n",
    "correspondente.\n"
   ]
  },
  {
   "cell_type": "code",
   "execution_count": 11,
   "metadata": {},
   "outputs": [
    {
     "name": "stdout",
     "output_type": "stream",
     "text": [
      "O número 5 é positivo.\n"
     ]
    }
   ],
   "source": [
    "numero = int(input('Digite um numero inteiro:'))\n",
    "\n",
    "if numero < 0:\n",
    "    print(f'O número {numero} é negativo.')\n",
    "    \n",
    "else:\n",
    "    print(f'O número {numero} é positivo.')\n",
    "   \n",
    "  \n"
   ]
  },
  {
   "cell_type": "code",
   "execution_count": 12,
   "metadata": {},
   "outputs": [
    {
     "name": "stdout",
     "output_type": "stream",
     "text": [
      "O número 0 é nulo.\n"
     ]
    }
   ],
   "source": [
    "numero = int(input('Digite o número inteiro.'))\n",
    "if numero > 0:\n",
    "    print(f'O Numero {numero} é positivo.')\n",
    "elif numero < 0:\n",
    "    print(f'O número {numero} é negativo.')\n",
    "else:\n",
    "    print (f'O número {numero} é nulo.')\n"
   ]
  },
  {
   "cell_type": "markdown",
   "metadata": {},
   "source": [
    "### Exercício 03\n",
    "Crie duas variáveis, \"nota1\" e \"nota2\", e atribua valores numéricos a elas. \n",
    "\n",
    "Verifique se a média das notas é maior ou igual a 7 e imprima \"Aprovado\" ou \n",
    "\"Reprovado\" de acordo com a condição.\n"
   ]
  },
  {
   "cell_type": "code",
   "execution_count": 14,
   "metadata": {},
   "outputs": [
    {
     "name": "stdout",
     "output_type": "stream",
     "text": [
      "Aluno aprovado\n"
     ]
    }
   ],
   "source": [
    "nota1 = float(input('Digite a primeira nota:'))\n",
    "nota2 = float(input('Digite a segunda nota:'))\n",
    "media = (nota1 + nota2) / 2\n",
    "if media >= 7:\n",
    "    print('Aluno reprovado')\n",
    "else:\n",
    "    print('Aluno aprovado')    "
   ]
  }
 ],
 "metadata": {
  "kernelspec": {
   "display_name": "Python 3",
   "language": "python",
   "name": "python3"
  },
  "language_info": {
   "codemirror_mode": {
    "name": "ipython",
    "version": 3
   },
   "file_extension": ".py",
   "mimetype": "text/x-python",
   "name": "python",
   "nbconvert_exporter": "python",
   "pygments_lexer": "ipython3",
   "version": "3.11.0"
  },
  "orig_nbformat": 4
 },
 "nbformat": 4,
 "nbformat_minor": 2
}
