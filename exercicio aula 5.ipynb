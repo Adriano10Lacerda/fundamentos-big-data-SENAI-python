{
 "cells": [
  {
   "cell_type": "markdown",
   "metadata": {},
   "source": [
    "### Exercício 06 - \n",
    "\n",
    "Faça um programa que imprima na tela os números de 1 a 20, um abaixo\n",
    "do outro. Depois modifique o programa para que ele mostre os números um ao lado do\n",
    "outro."
   ]
  },
  {
   "cell_type": "code",
   "execution_count": 2,
   "metadata": {},
   "outputs": [
    {
     "name": "stdout",
     "output_type": "stream",
     "text": [
      "1\n",
      "2\n",
      "3\n",
      "4\n",
      "5\n",
      "6\n",
      "7\n",
      "8\n",
      "9\n",
      "10\n",
      "11\n",
      "12\n",
      "13\n",
      "14\n",
      "15\n",
      "16\n",
      "17\n",
      "18\n",
      "19\n",
      "20\n",
      "1234567891011121314151617181920"
     ]
    }
   ],
   "source": [
    "# imprimir os numeros um abaixo do outro\n",
    "for i in range(1, 21):\n",
    "    print(i)\n",
    "\n",
    "# imprimir os numeros um a frente do outro\n",
    "for i in range(1, 21):\n",
    "    print(i, end='')"
   ]
  },
  {
   "cell_type": "markdown",
   "metadata": {},
   "source": [
    "### Exercício 08 - \n",
    "\n",
    "Faça um programa que leia 5 números e informe a soma e a média dos\n",
    "números."
   ]
  },
  {
   "cell_type": "code",
   "execution_count": 4,
   "metadata": {},
   "outputs": [
    {
     "name": "stdout",
     "output_type": "stream",
     "text": [
      "A soma dos números é: 28.0\n",
      "A media dos números é: 5.6\n"
     ]
    }
   ],
   "source": [
    "# Exemplo 1\n",
    "soma = 0\n",
    "\n",
    "for i in range(5):\n",
    "    listaNumeros = float(input('Digite um número:'))\n",
    "    soma += listaNumeros\n",
    "\n",
    "media = soma /5\n",
    "\n",
    "print(f'A soma dos números é: {soma}')\n",
    "print(f'A media dos números é: {media}')"
   ]
  },
  {
   "cell_type": "code",
   "execution_count": 11,
   "metadata": {},
   "outputs": [
    {
     "data": {
      "text/plain": [
       "59.4"
      ]
     },
     "execution_count": 11,
     "metadata": {},
     "output_type": "execute_result"
    }
   ],
   "source": [
    "import numpy as np\n",
    "# Exemplo 2\n",
    "\n",
    "listaNumeros = []\n",
    "qtde = range(1, 6)\n",
    "\n",
    "for x in qtde:\n",
    "    numero = int(input(' Digite um valor:'))\n",
    "    listaNumeros.append(numero)\n",
    "\n",
    "soma = sum(listaNumeros)\n",
    "np.average(listaNumeros)"
   ]
  },
  {
   "cell_type": "markdown",
   "metadata": {},
   "source": [
    "### Exercício 09 - \n",
    "\n",
    "Faça um programa que imprima na tela apenas os números ímpares\n",
    "entre 1 e 50."
   ]
  },
  {
   "cell_type": "code",
   "execution_count": 12,
   "metadata": {},
   "outputs": [
    {
     "name": "stdout",
     "output_type": "stream",
     "text": [
      "Os numeros impar são:1\n",
      "Os numeros impar são:3\n",
      "Os numeros impar são:5\n",
      "Os numeros impar são:7\n",
      "Os numeros impar são:9\n",
      "Os numeros impar são:11\n",
      "Os numeros impar são:13\n",
      "Os numeros impar são:15\n",
      "Os numeros impar são:17\n",
      "Os numeros impar são:19\n",
      "Os numeros impar são:21\n",
      "Os numeros impar são:23\n",
      "Os numeros impar são:25\n",
      "Os numeros impar são:27\n",
      "Os numeros impar são:29\n",
      "Os numeros impar são:31\n",
      "Os numeros impar são:33\n",
      "Os numeros impar são:35\n",
      "Os numeros impar são:37\n",
      "Os numeros impar são:39\n",
      "Os numeros impar são:41\n",
      "Os numeros impar são:43\n",
      "Os numeros impar são:45\n",
      "Os numeros impar são:47\n",
      "Os numeros impar são:49\n"
     ]
    }
   ],
   "source": [
    "for numero in range(1, 50):\n",
    "    if numero %2 != 0:\n",
    "        print(f'Os numeros impar são:{numero}')\n"
   ]
  },
  {
   "cell_type": "markdown",
   "metadata": {},
   "source": [
    "### Exercício 10 - \n",
    "\n",
    "Faça um programa que receba dois números inteiros e gere os números\n",
    "inteiros que estão no intervalo compreendido por eles."
   ]
  },
  {
   "cell_type": "code",
   "execution_count": 15,
   "metadata": {},
   "outputs": [
    {
     "name": "stdout",
     "output_type": "stream",
     "text": [
      "Números no intervalo entre 40 e 78:\n",
      "40\n",
      "41\n",
      "42\n",
      "43\n",
      "44\n",
      "45\n",
      "46\n",
      "47\n",
      "48\n",
      "49\n",
      "50\n",
      "51\n",
      "52\n",
      "53\n",
      "54\n",
      "55\n",
      "56\n",
      "57\n",
      "58\n",
      "59\n",
      "60\n",
      "61\n",
      "62\n",
      "63\n",
      "64\n",
      "65\n",
      "66\n",
      "67\n",
      "68\n",
      "69\n",
      "70\n",
      "71\n",
      "72\n",
      "73\n",
      "74\n",
      "75\n",
      "76\n",
      "77\n",
      "78\n"
     ]
    }
   ],
   "source": [
    "# Receber os numeros inteiros\n",
    "\n",
    "num1 = int(input('Digite o primeiro número inteiro: '))\n",
    "num2 = int(input('Digite o segundo número inteiro: '))\n",
    "\n",
    "# Garante que o numero 2 seja maior que o numero 1\n",
    "if num1 > num2:\n",
    "    num1, num2 = num2, num1\n",
    "\n",
    "print(f'Números no intervalo entre {num1} e {num2}:')\n",
    "for i in range(num1, num2 + 1):\n",
    "    print(i)\n",
    "\n"
   ]
  },
  {
   "cell_type": "markdown",
   "metadata": {},
   "source": [
    "### Exercício 11 - \n",
    "\n",
    "Altere o programa anterior para mostrar no final a soma dos números."
   ]
  },
  {
   "cell_type": "code",
   "execution_count": 14,
   "metadata": {},
   "outputs": [
    {
     "name": "stdout",
     "output_type": "stream",
     "text": [
      "Números no intervalo entre 56 e 74:\n",
      "56\n",
      "57\n",
      "58\n",
      "59\n",
      "60\n",
      "61\n",
      "62\n",
      "63\n",
      "64\n",
      "65\n",
      "66\n",
      "67\n",
      "68\n",
      "69\n",
      "70\n",
      "71\n",
      "72\n",
      "73\n",
      "74\n",
      "Soma dos números no intervalo: 1235\n"
     ]
    }
   ],
   "source": [
    "# Recebe os números inteiros\n",
    "numero1 = int(input(\"Digite o primeiro número inteiro: \"))\n",
    "numero2 = int(input(\"Digite o segundo número inteiro: \"))\n",
    "\n",
    "# Garante que número2 seja maior que número1\n",
    "if numero1 > numero2:\n",
    "    numero1, numero2 = numero2, numero1\n",
    "\n",
    "# Gera e exibe os números no intervalo\n",
    "print(f\"Números no intervalo entre {numero1} e {numero2}:\")\n",
    "soma = 0\n",
    "for i in range(numero1, numero2 + 1):\n",
    "    print(i)\n",
    "    soma += i\n",
    "\n",
    "# Exibe a soma dos números no final\n",
    "print(f\"Soma dos números no intervalo: {soma}\")"
   ]
  },
  {
   "cell_type": "markdown",
   "metadata": {},
   "source": [
    "### Exercício 12 - \n",
    "\n",
    "Desenvolva um gerador de tabuada, capaz de gerar a tabuada de\n",
    "qualquer número inteiro entre 1 a 10. \n",
    "\n",
    "O usuário deve informar de qual numero ele deseja\n",
    "ver a tabuada. A saída deve ser conforme o exemplo abaixo:"
   ]
  },
  {
   "cell_type": "code",
   "execution_count": 16,
   "metadata": {},
   "outputs": [
    {
     "name": "stdout",
     "output_type": "stream",
     "text": [
      "Tabuada do 5:\n",
      "5 x 1 = 5\n",
      "5 x 2 = 10\n",
      "5 x 3 = 15\n",
      "5 x 4 = 20\n",
      "5 x 5 = 25\n",
      "5 x 6 = 30\n",
      "5 x 7 = 35\n",
      "5 x 8 = 40\n",
      "5 x 9 = 45\n",
      "5 x 10 = 50\n"
     ]
    }
   ],
   "source": [
    "# Recebe o número para o qual deseja a tabuada\n",
    "numero = int(input(\"Digite um número de 1 a 10 para ver a tabuada: \"))\n",
    "\n",
    "# Verifica se o número está dentro do intervalo desejado\n",
    "if 1 <= numero <= 10:\n",
    "    print(f\"Tabuada do {numero}:\")\n",
    "    for i in range(1, 11):\n",
    "        resultado = numero * i\n",
    "        print(f\"{numero} x {i} = {resultado}\")\n",
    "else:\n",
    "    print(\"Número fora do intervalo válido (1 a 10).\")"
   ]
  }
 ],
 "metadata": {
  "kernelspec": {
   "display_name": "Python 3",
   "language": "python",
   "name": "python3"
  },
  "language_info": {
   "codemirror_mode": {
    "name": "ipython",
    "version": 3
   },
   "file_extension": ".py",
   "mimetype": "text/x-python",
   "name": "python",
   "nbconvert_exporter": "python",
   "pygments_lexer": "ipython3",
   "version": "3.11.0"
  }
 },
 "nbformat": 4,
 "nbformat_minor": 2
}
